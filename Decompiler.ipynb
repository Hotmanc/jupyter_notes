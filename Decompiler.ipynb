{
 "cells": [
  {
   "cell_type": "markdown",
   "metadata": {},
   "source": [
    "### Decompiler Script\n",
    "\n",
    "Decompiles all .pyc scripts in a particular folder, then exports the output into another folder. Variables needed are:\n",
    "\n",
    "- compiledDir - Path of the folder containing .pyc to decompile. [String]\n",
    "- outputDir - Path of the folder to store the output. [String]\n",
    "\n",
    "This script might not be able to compile some .pyc files due to issues from uncompyle6. If this is the case, it will skip over said file and notify the user."
   ]
  },
  {
   "cell_type": "code",
   "execution_count": 33,
   "metadata": {},
   "outputs": [],
   "source": [
    "import glob\n",
    "import os\n",
    "import uncompyle6"
   ]
  },
  {
   "cell_type": "code",
   "execution_count": 37,
   "metadata": {},
   "outputs": [],
   "source": [
    "compiledDir = 'Compiled file location'\n",
    "outputDir = compiledDir.split(\"compiled\")[0] + \"Decompiled\" # Modify as seen fit\n",
    "os.chdir(compiledDir)\n",
    "fileNames = glob.glob(\"*.pyc\")"
   ]
  },
  {
   "cell_type": "code",
   "execution_count": 1,
   "metadata": {
    "scrolled": true
   },
   "outputs": [],
   "source": [
    "for fn in fileNames:\n",
    "    fileDecomp = fn.split('.')[0] + '.py'\n",
    "    try:\n",
    "        with open(outputDir + '/' + fileDecomp, 'w') as f:\n",
    "            uncompyle6.decompile_file(fn, f)\n",
    "        print('Finished decompiling ' + fileDecomp)\n",
    "    except Exception:\n",
    "        print('Unable to decompile ' + fileDecomp +'. Skipping this file...')"
   ]
  },
  {
   "cell_type": "code",
   "execution_count": null,
   "metadata": {},
   "outputs": [],
   "source": []
  }
 ],
 "metadata": {
  "kernelspec": {
   "display_name": "Python 3",
   "language": "python",
   "name": "python3"
  },
  "language_info": {
   "codemirror_mode": {
    "name": "ipython",
    "version": 3
   },
   "file_extension": ".py",
   "mimetype": "text/x-python",
   "name": "python",
   "nbconvert_exporter": "python",
   "pygments_lexer": "ipython3",
   "version": "3.7.4"
  }
 },
 "nbformat": 4,
 "nbformat_minor": 2
}
