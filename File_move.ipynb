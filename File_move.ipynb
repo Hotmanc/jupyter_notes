{
 "cells": [
  {
   "cell_type": "markdown",
   "metadata": {},
   "source": [
    "#### File Mover"
   ]
  },
  {
   "cell_type": "code",
   "execution_count": 3,
   "metadata": {},
   "outputs": [],
   "source": [
    "import os\n",
    "import datetime"
   ]
  },
  {
   "cell_type": "code",
   "execution_count": 16,
   "metadata": {},
   "outputs": [],
   "source": [
    "dir_ = 'D:/Hotman/Result_All'\n",
    "os.chdir(dir_)\n",
    "target_dir_ = 'D:/Hotman/Folder_Move_Result_All'"
   ]
  },
  {
   "cell_type": "markdown",
   "metadata": {},
   "source": [
    "##### Summary\n",
    "\n",
    "dir_ represents where the root directory is at. \n",
    "target_dir_ represents where you want to put the results at.\n",
    "\n",
    "The folders containing the files MUST be named XXXX_HPCn_AAA_BBB, where:\n",
    "    - XXXX can be anything\n",
    "    - n is a number (defining stage n as the folder name) and is the innermost subfolder\n",
    "    - AAA is something akin to FF / RF in trials, and is the second subfolder\n",
    "    - BBB is the topmost folder (disk, blade, etc in trials)\n",
    "    \n",
    "For example, if the folder directories is:\n",
    "\n",
    "TopFolder\n",
    "    - FirstFolder\n",
    "        - XXXX_HPCn_AAA_BBB folders\n",
    "\n",
    "then TopFolder will be dir_.\n",
    "\n",
    "The output folder directories will be:\n",
    "\n",
    "target_dir_\n",
    "    - BBB\n",
    "        - AAA\n",
    "            - stage n\n",
    "       \n",
    "There are 2 functions below. The first one will assume dir_ is FirstFolder, while the second one will assume dir_ is TopFolder."
   ]
  },
  {
   "cell_type": "markdown",
   "metadata": {},
   "source": [
    "#####  No sub-folders"
   ]
  },
  {
   "cell_type": "code",
   "execution_count": 1,
   "metadata": {
    "scrolled": true
   },
   "outputs": [],
   "source": [
    "'''\n",
    "This is used when all the XXX_HPCn_AAA_BBB folders are directly contained in dir_ (dir_/XXX_HPCn_AAA_BBB).\n",
    "'''\n",
    "\n",
    "fn = []\n",
    "dn = []\n",
    "dp = []\n",
    "\n",
    "for (dirpath, dirnames, filenames) in os.walk(dir_):\n",
    "    dn.extend(dirnames)\n",
    "    fn.append(filenames)\n",
    "    dp.append(dirpath)\n",
    "\n",
    "for i in range(len(dn)):\n",
    "    dirname = dn[i]\n",
    "    filenames = fn[i+1]\n",
    "    dirpath = dp[i+1]\n",
    "\n",
    "\n",
    "    dirsplit = dirname.split('_')[-3:]\n",
    "    olddir = dirpath\n",
    "    newdir = target_dir_ + '/' + dirsplit[1] + '/' + 'stage' + dirsplit[0][3] + '/' + dirsplit[2] + '/' + str(datetime.datetime.now())[:10]\n",
    "\n",
    "    try:\n",
    "        os.makedirs(newdir)\n",
    "    except Exception as e:\n",
    "        pass\n",
    "\n",
    "    print(\"Moving from \" + olddir + '/' + \" to \" + newdir + '/')\n",
    "    for files in filenames:\n",
    "        try:\n",
    "            os.replace((olddir + '/' + files), (newdir + '/' + files))\n",
    "        except Exception as e:\n",
    "            pass\n",
    "            print(\"Failed to pass from \" + olddir + '/' + files + \" to \" + newdir + '/' + files)\n",
    "\n",
    "\n",
    "            print(\"Finished\")"
   ]
  },
  {
   "cell_type": "markdown",
   "metadata": {},
   "source": [
    "#####  Subfolders"
   ]
  },
  {
   "cell_type": "code",
   "execution_count": 17,
   "metadata": {},
   "outputs": [],
   "source": [
    "# Gets the folder list\n",
    "folders = [(x[0], x[1]) for x in os.walk(dir_)]\n",
    "bcd_list = folders[0][1]"
   ]
  },
  {
   "cell_type": "code",
   "execution_count": 3,
   "metadata": {},
   "outputs": [],
   "source": [
    "'''\n",
    "This is used when the folders are NOT directly contained in dir_, but are one folder below it (something along the line of \n",
    "dir_/.../XXX_HPCn_AAA_BBB). \n",
    "'''\n",
    "\n",
    "for bcd in bcd_list:\n",
    "    print(\"Moving files in \" + bcd + \"...\")\n",
    "    \n",
    "    fn = []\n",
    "    dn = []\n",
    "    dp = []\n",
    "    \n",
    "    for (dirpath, dirnames, filenames) in os.walk(dir_ + '/'+ bcd):\n",
    "        dn.extend(dirnames)\n",
    "        fn.append(filenames)\n",
    "        dp.append(dirpath)\n",
    "\n",
    "    for i in range(len(dn)):\n",
    "        dirname = dn[i]\n",
    "        filenames = fn[i+1]\n",
    "        dirpath = dp[i+1]\n",
    "        \n",
    "        \n",
    "        dirsplit = dirname.split('_')[-3:]\n",
    "        olddir = dirpath\n",
    "        newdir = target_dir_ + '/' + dirsplit[1] + '/' + 'stage' + dirsplit[0][3] + '/' + dirsplit[2] + '/' + str(datetime.datetime.now())[:10]\n",
    "\n",
    "        try:\n",
    "            os.makedirs(newdir)\n",
    "        except Exception as e:\n",
    "            pass\n",
    "        \n",
    "        print(\"Moving from \" + olddir + '/' + \" to \" + newdir + '/')\n",
    "        for files in filenames:\n",
    "            try:\n",
    "                os.replace((olddir + '/' + files), (newdir + '/' + files))\n",
    "            except Exception as e:\n",
    "                pass\n",
    "                print(\"Failed to pass from \" + olddir + '/' + files + \" to \" + newdir + '/' + files)\n",
    "\n",
    "print(\"Finished\")"
   ]
  },
  {
   "cell_type": "code",
   "execution_count": null,
   "metadata": {},
   "outputs": [],
   "source": []
  }
 ],
 "metadata": {
  "kernelspec": {
   "display_name": "Python 3",
   "language": "python",
   "name": "python3"
  },
  "language_info": {
   "codemirror_mode": {
    "name": "ipython",
    "version": 3
   },
   "file_extension": ".py",
   "mimetype": "text/x-python",
   "name": "python",
   "nbconvert_exporter": "python",
   "pygments_lexer": "ipython3",
   "version": "3.7.4"
  }
 },
 "nbformat": 4,
 "nbformat_minor": 2
}
